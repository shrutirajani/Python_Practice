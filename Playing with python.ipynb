{
 "cells": [
  {
   "cell_type": "code",
   "execution_count": 3,
   "metadata": {},
   "outputs": [],
   "source": [
    "import numpy as np\n",
    "import pandas as pd\n",
    "from lec4code import *\n",
    "bwght_df = pd.read_csv('BWGHT.csv')\n",
    "bwght = bwght_df.values\n",
    "y = bwght[:,3]\n",
    "x = bwght[:,7:10]\n",
    "modela = lm(x,y)\n",
    "modelb = white(x,y)"
   ]
  },
  {
   "cell_type": "code",
   "execution_count": 4,
   "metadata": {},
   "outputs": [
    {
     "data": {
      "text/html": [
       "<div>\n",
       "<style scoped>\n",
       "    .dataframe tbody tr th:only-of-type {\n",
       "        vertical-align: middle;\n",
       "    }\n",
       "\n",
       "    .dataframe tbody tr th {\n",
       "        vertical-align: top;\n",
       "    }\n",
       "\n",
       "    .dataframe thead th {\n",
       "        text-align: right;\n",
       "    }\n",
       "</style>\n",
       "<table border=\"1\" class=\"dataframe\">\n",
       "  <thead>\n",
       "    <tr style=\"text-align: right;\">\n",
       "      <th></th>\n",
       "      <th>est</th>\n",
       "      <th>std.err</th>\n",
       "      <th>t.stat</th>\n",
       "      <th>p.val</th>\n",
       "    </tr>\n",
       "  </thead>\n",
       "  <tbody>\n",
       "    <tr>\n",
       "      <th>0</th>\n",
       "      <td>113.277703</td>\n",
       "      <td>1.304635</td>\n",
       "      <td>86.827125</td>\n",
       "      <td>0.000000e+00</td>\n",
       "    </tr>\n",
       "    <tr>\n",
       "      <th>1</th>\n",
       "      <td>3.051843</td>\n",
       "      <td>1.069285</td>\n",
       "      <td>2.854097</td>\n",
       "      <td>4.315932e-03</td>\n",
       "    </tr>\n",
       "    <tr>\n",
       "      <th>2</th>\n",
       "      <td>6.229702</td>\n",
       "      <td>1.299565</td>\n",
       "      <td>4.793683</td>\n",
       "      <td>1.637468e-06</td>\n",
       "    </tr>\n",
       "    <tr>\n",
       "      <th>3</th>\n",
       "      <td>-0.505723</td>\n",
       "      <td>0.089462</td>\n",
       "      <td>-5.652916</td>\n",
       "      <td>1.577484e-08</td>\n",
       "    </tr>\n",
       "  </tbody>\n",
       "</table>\n",
       "</div>"
      ],
      "text/plain": [
       "          est   std.err     t.stat         p.val\n",
       "0  113.277703  1.304635  86.827125  0.000000e+00\n",
       "1    3.051843  1.069285   2.854097  4.315932e-03\n",
       "2    6.229702  1.299565   4.793683  1.637468e-06\n",
       "3   -0.505723  0.089462  -5.652916  1.577484e-08"
      ]
     },
     "execution_count": 4,
     "metadata": {},
     "output_type": "execute_result"
    }
   ],
   "source": [
    "modela.tidy()"
   ]
  },
  {
   "cell_type": "code",
   "execution_count": 5,
   "metadata": {},
   "outputs": [
    {
     "data": {
      "text/html": [
       "<div>\n",
       "<style scoped>\n",
       "    .dataframe tbody tr th:only-of-type {\n",
       "        vertical-align: middle;\n",
       "    }\n",
       "\n",
       "    .dataframe tbody tr th {\n",
       "        vertical-align: top;\n",
       "    }\n",
       "\n",
       "    .dataframe thead th {\n",
       "        text-align: right;\n",
       "    }\n",
       "</style>\n",
       "<table border=\"1\" class=\"dataframe\">\n",
       "  <thead>\n",
       "    <tr style=\"text-align: right;\">\n",
       "      <th></th>\n",
       "      <th>est</th>\n",
       "      <th>std.err</th>\n",
       "      <th>t.stat</th>\n",
       "      <th>p.val</th>\n",
       "    </tr>\n",
       "  </thead>\n",
       "  <tbody>\n",
       "    <tr>\n",
       "      <th>0</th>\n",
       "      <td>113.277703</td>\n",
       "      <td>1.359358</td>\n",
       "      <td>83.331784</td>\n",
       "      <td>0.000000e+00</td>\n",
       "    </tr>\n",
       "    <tr>\n",
       "      <th>1</th>\n",
       "      <td>3.051843</td>\n",
       "      <td>1.068340</td>\n",
       "      <td>2.856621</td>\n",
       "      <td>4.281765e-03</td>\n",
       "    </tr>\n",
       "    <tr>\n",
       "      <th>2</th>\n",
       "      <td>6.229702</td>\n",
       "      <td>1.361156</td>\n",
       "      <td>4.576774</td>\n",
       "      <td>4.722022e-06</td>\n",
       "    </tr>\n",
       "    <tr>\n",
       "      <th>3</th>\n",
       "      <td>-0.505723</td>\n",
       "      <td>0.088601</td>\n",
       "      <td>-5.707862</td>\n",
       "      <td>1.144039e-08</td>\n",
       "    </tr>\n",
       "  </tbody>\n",
       "</table>\n",
       "</div>"
      ],
      "text/plain": [
       "          est   std.err     t.stat         p.val\n",
       "0  113.277703  1.359358  83.331784  0.000000e+00\n",
       "1    3.051843  1.068340   2.856621  4.281765e-03\n",
       "2    6.229702  1.361156   4.576774  4.722022e-06\n",
       "3   -0.505723  0.088601  -5.707862  1.144039e-08"
      ]
     },
     "execution_count": 5,
     "metadata": {},
     "output_type": "execute_result"
    }
   ],
   "source": [
    "modelb.tidy()"
   ]
  },
  {
   "cell_type": "code",
   "execution_count": 43,
   "metadata": {},
   "outputs": [
    {
     "name": "stdout",
     "output_type": "stream",
     "text": [
      "0.079\n"
     ]
    }
   ],
   "source": [
    "n = 100\n",
    "nsim = 1000\n",
    "outp = np.zeros((nsim,1))\n",
    "for isim in range(nsim):\n",
    "    x = np.random.normal(size=(n,1))\n",
    "    #e = np.random.normal(size=(n,1))\n",
    "    e = np.random.normal(loc=0,scale=np.abs(x),size=(n,1))\n",
    "    y = x + e\n",
    "    #outp[isim,0] = lm(x,y).b[1]\n",
    "    #model = lm(x,y)\n",
    "    model = white(x,y)\n",
    "    #outp[isim,0] = (model.b[1]-1)/model.se[1]\n",
    "    tstat = (model.b[1]-1)/model.se[1]\n",
    "    if abs(tstat)>1.96: outp[isim,0] = 1\n",
    "print(outp.mean())\n",
    "#print(outp.var())"
   ]
  },
  {
   "cell_type": "code",
   "execution_count": 46,
   "metadata": {},
   "outputs": [
    {
     "name": "stdout",
     "output_type": "stream",
     "text": [
      "[[0.03095481 0.1554387  0.58101399]\n",
      " [0.0123162  0.04461427 0.17129832]\n",
      " [0.00522067 0.01956924 0.09297911]\n",
      " [0.00241378 0.01070145 0.04132267]\n",
      " [0.00100574 0.00411904 0.01610655]]\n"
     ]
    }
   ],
   "source": [
    "nvec = [10,25,50,100,250]\n",
    "svec = [0.5,1,2]\n",
    "nsim = 1000\n",
    "outp = np.zeros((nsim,len(nvec),len(svec)))\n",
    "for j in range(len(svec)):\n",
    "    sig = svec[j]\n",
    "    for i in range(len(nvec)):\n",
    "        n = nvec[i]\n",
    "        for isim in range(nsim):\n",
    "            x = np.random.normal(size=(n,1))\n",
    "            e = np.random.normal(scale=sig,size=(n,1))\n",
    "            y = x + e\n",
    "            model = lm(x,y)\n",
    "            outp[isim,i,j] = model.b[1]\n",
    "#print(outp.mean(0))\n",
    "print(outp.var(0))"
   ]
  },
  {
   "cell_type": "code",
   "execution_count": 47,
   "metadata": {},
   "outputs": [
    {
     "name": "stdout",
     "output_type": "stream",
     "text": [
      "[[0.03683568 0.15269096 0.57419523]\n",
      " [0.01228649 0.04634985 0.18295671]\n",
      " [0.00506182 0.02220872 0.08092598]\n",
      " [0.00246743 0.01007115 0.04135977]\n",
      " [0.00105715 0.00387813 0.01538154]]\n"
     ]
    }
   ],
   "source": [
    "from itertools import product\n",
    "nvec = [10,25,50,100,250]\n",
    "svec = [0.5,1,2]\n",
    "nsim = 1000\n",
    "outp = np.zeros((nsim,len(nvec),len(svec)))\n",
    "pmat = [nvec,svec]\n",
    "pmat = [range(len(a)) for a in pmat]\n",
    "pmat = product(*pmat)\n",
    "for i,j in pmat:\n",
    "    (n,sig) = (nvec[i],svec[j])\n",
    "    for isim in range(nsim):\n",
    "        x = np.random.normal(size=(n,1))\n",
    "        e = np.random.normal(scale=sig,size=(n,1))\n",
    "        y = x + e\n",
    "        model = lm(x,y)\n",
    "        outp[isim,i,j] = model.b[1]\n",
    "#print(outp.mean(0))\n",
    "print(outp.var(0))"
   ]
  },
  {
   "cell_type": "code",
   "execution_count": 57,
   "metadata": {},
   "outputs": [
    {
     "name": "stdout",
     "output_type": "stream",
     "text": [
      "(0, 0)\n",
      "(0, 1)\n",
      "(0, 2)\n",
      "(1, 0)\n",
      "(1, 1)\n",
      "(1, 2)\n",
      "(2, 0)\n",
      "(2, 1)\n",
      "(2, 2)\n",
      "(3, 0)\n",
      "(3, 1)\n",
      "(3, 2)\n",
      "(4, 0)\n",
      "(4, 1)\n",
      "(4, 2)\n"
     ]
    }
   ],
   "source": [
    "nvec = [10,25,50,100,250]\n",
    "svec = [0.5,1,2]\n",
    "pmat = [nvec,svec]\n",
    "pmat = [range(len(a)) for a in pmat]\n",
    "pmat = product(*pmat) #product(range(5),range(3))\n",
    "for item in pmat:\n",
    "    print(item)"
   ]
  },
  {
   "cell_type": "code",
   "execution_count": 55,
   "metadata": {},
   "outputs": [
    {
     "name": "stdout",
     "output_type": "stream",
     "text": [
      "1 1\n",
      "1 2\n",
      "1 3\n",
      "1 4\n",
      "1 5\n",
      "1 6\n",
      "1 7\n",
      "1 8\n",
      "1 9\n",
      "2 1\n",
      "2 2\n",
      "2 3\n",
      "2 4\n",
      "2 5\n",
      "2 6\n",
      "2 7\n",
      "2 8\n",
      "2 9\n",
      "3 1\n",
      "3 2\n",
      "3 3\n",
      "3 4\n",
      "3 5\n",
      "3 6\n",
      "3 7\n",
      "3 8\n",
      "3 9\n",
      "4 1\n",
      "4 2\n",
      "4 3\n",
      "4 4\n",
      "4 5\n",
      "4 6\n",
      "4 7\n",
      "4 8\n",
      "4 9\n",
      "5 1\n",
      "5 2\n",
      "5 3\n",
      "5 4\n",
      "5 5\n",
      "5 6\n",
      "5 7\n",
      "5 8\n",
      "5 9\n",
      "6 1\n",
      "6 2\n",
      "6 3\n",
      "6 4\n",
      "6 5\n",
      "6 6\n",
      "6 7\n",
      "6 8\n",
      "6 9\n",
      "7 1\n",
      "7 2\n",
      "7 3\n",
      "7 4\n",
      "7 5\n",
      "7 6\n",
      "7 7\n",
      "7 8\n",
      "7 9\n",
      "8 1\n",
      "8 2\n",
      "8 3\n",
      "8 4\n",
      "8 5\n",
      "8 6\n",
      "8 7\n",
      "8 8\n",
      "8 9\n",
      "9 1\n",
      "9 2\n",
      "9 3\n",
      "9 4\n",
      "9 5\n",
      "9 6\n",
      "9 7\n",
      "9 8\n",
      "9 9\n"
     ]
    }
   ],
   "source": [
    "for a,b in product(range(1,10),range(1,10)):\n",
    "    print(a,b)"
   ]
  },
  {
   "cell_type": "code",
   "execution_count": null,
   "metadata": {},
   "outputs": [],
   "source": []
  },
  {
   "cell_type": "code",
   "execution_count": 61,
   "metadata": {},
   "outputs": [
    {
     "name": "stdout",
     "output_type": "stream",
     "text": [
      "(0, 0)\n",
      "(0, 1)\n",
      "(0, 2)\n",
      "(1, 0)\n",
      "(1, 1)\n",
      "(1, 2)\n",
      "(2, 0)\n",
      "(2, 1)\n",
      "(2, 2)\n",
      "(3, 0)\n",
      "(3, 1)\n",
      "(3, 2)\n",
      "(4, 0)\n",
      "(4, 1)\n",
      "(4, 2)\n"
     ]
    }
   ],
   "source": [
    "np.arange(10)\n",
    "\n",
    "\n",
    "\n",
    "\n",
    "\n",
    "\n",
    "\n",
    "\n",
    "\n",
    "\n",
    "\n",
    "a = [5,3]\n",
    "a = [range(x) for x in a]\n",
    "from itertools import product\n",
    "for i in product(*a):\n",
    "    print(i)"
   ]
  },
  {
   "cell_type": "code",
   "execution_count": 74,
   "metadata": {},
   "outputs": [
    {
     "name": "stdout",
     "output_type": "stream",
     "text": [
      "0.7689508496973145\n",
      "0.01889383617895003\n"
     ]
    }
   ],
   "source": [
    "n = 100000\n",
    "nsim = 100\n",
    "outp = np.zeros((nsim,1))\n",
    "for isim in range(nsim):\n",
    "    x = np.random.normal(size=(n,10))\n",
    "    x = x.cumsum(0)\n",
    "    e = np.random.normal(size=(n,1))\n",
    "    e = e.cumsum().reshape(-1,1)\n",
    "    y = e\n",
    "    outp[isim,0] = lm(x,y).rsq\n",
    "print(outp.mean())\n",
    "print(outp.var())"
   ]
  },
  {
   "cell_type": "code",
   "execution_count": 63,
   "metadata": {},
   "outputs": [
    {
     "data": {
      "text/plain": [
       "array([ 0,  1,  3,  6, 10, 15, 21, 28, 36, 45])"
      ]
     },
     "execution_count": 63,
     "metadata": {},
     "output_type": "execute_result"
    }
   ],
   "source": [
    "np.arange(10).cumsum()"
   ]
  },
  {
   "cell_type": "code",
   "execution_count": 76,
   "metadata": {},
   "outputs": [
    {
     "name": "stderr",
     "output_type": "stream",
     "text": [
      "IOPub data rate exceeded.\n",
      "The notebook server will temporarily stop sending output\n",
      "to the client in order to avoid crashing it.\n",
      "To change this limit, set the config variable\n",
      "`--NotebookApp.iopub_data_rate_limit`.\n",
      "\n",
      "Current values:\n",
      "NotebookApp.iopub_data_rate_limit=1000000.0 (bytes/sec)\n",
      "NotebookApp.rate_limit_window=3.0 (secs)\n",
      "\n"
     ]
    },
    {
     "ename": "KeyboardInterrupt",
     "evalue": "",
     "output_type": "error",
     "traceback": [
      "\u001b[0;31m---------------------------------------------------------------------------\u001b[0m",
      "\u001b[0;31mKeyboardInterrupt\u001b[0m                         Traceback (most recent call last)",
      "\u001b[0;32m<ipython-input-76-29935a33fcaf>\u001b[0m in \u001b[0;36m<module>\u001b[0;34m\u001b[0m\n\u001b[1;32m      3\u001b[0m \u001b[0mx\u001b[0m \u001b[0;34m=\u001b[0m \u001b[0;36m3\u001b[0m\u001b[0;34m\u001b[0m\u001b[0;34m\u001b[0m\u001b[0m\n\u001b[1;32m      4\u001b[0m \u001b[0;32mwhile\u001b[0m \u001b[0mx\u001b[0m \u001b[0;34m>\u001b[0m \u001b[0;36m1\u001b[0m\u001b[0;34m:\u001b[0m\u001b[0;34m\u001b[0m\u001b[0;34m\u001b[0m\u001b[0m\n\u001b[0;32m----> 5\u001b[0;31m     \u001b[0mprint\u001b[0m\u001b[0;34m(\u001b[0m\u001b[0mx\u001b[0m\u001b[0;34m)\u001b[0m\u001b[0;34m\u001b[0m\u001b[0;34m\u001b[0m\u001b[0m\n\u001b[0m\u001b[1;32m      6\u001b[0m     \u001b[0;32mif\u001b[0m \u001b[0mx\u001b[0m\u001b[0;34m%\u001b[0m\u001b[0;36m2\u001b[0m\u001b[0;34m==\u001b[0m\u001b[0;36m0\u001b[0m\u001b[0;34m:\u001b[0m\u001b[0;34m\u001b[0m\u001b[0;34m\u001b[0m\u001b[0m\n\u001b[1;32m      7\u001b[0m         \u001b[0mx\u001b[0m\u001b[0;34m//=\u001b[0m\u001b[0;36m2\u001b[0m\u001b[0;34m\u001b[0m\u001b[0;34m\u001b[0m\u001b[0m\n",
      "\u001b[0;31mKeyboardInterrupt\u001b[0m: "
     ]
    }
   ],
   "source": [
    "a = 3\n",
    "b = 2\n",
    "x = 3\n",
    "# Problem 1: Infinite loops\n",
    "# Problem 2: Series that don't end in 1\n",
    "lst = []\n",
    "while x > 1:\n",
    "    lst += [x]\n",
    "    print(x)\n",
    "    if x%2==0:\n",
    "        x//=2\n",
    "    else:\n",
    "        x = a*x+b"
   ]
  },
  {
   "cell_type": "code",
   "execution_count": 80,
   "metadata": {},
   "outputs": [
    {
     "data": {
      "text/plain": [
       "False"
      ]
     },
     "execution_count": 80,
     "metadata": {},
     "output_type": "execute_result"
    }
   ],
   "source": [
    "{20,10,5}=={10,5,20}"
   ]
  }
 ],
 "metadata": {
  "kernelspec": {
   "display_name": "Python 3",
   "language": "python",
   "name": "python3"
  },
  "language_info": {
   "codemirror_mode": {
    "name": "ipython",
    "version": 3
   },
   "file_extension": ".py",
   "mimetype": "text/x-python",
   "name": "python",
   "nbconvert_exporter": "python",
   "pygments_lexer": "ipython3",
   "version": "3.7.1"
  }
 },
 "nbformat": 4,
 "nbformat_minor": 2
}
